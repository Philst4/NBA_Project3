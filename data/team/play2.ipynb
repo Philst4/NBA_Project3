{
 "cells": [
  {
   "cell_type": "markdown",
   "metadata": {},
   "source": [
    "NOTEBOOK FOR PLAYING AROUND WITH:\n",
    "* home_advantage scaling\n",
    "* rest days / travel related\n",
    "* elo ratings"
   ]
  },
  {
   "cell_type": "code",
   "execution_count": 32,
   "metadata": {},
   "outputs": [],
   "source": [
    "import pandas as pd\n",
    "import numpy as np\n",
    "from scripts.deflate import level_home_inflation"
   ]
  },
  {
   "cell_type": "code",
   "execution_count": 49,
   "metadata": {},
   "outputs": [],
   "source": [
    "streak_df = pd.read_csv('opped/standardized_0.csv', index_col=0).select_dtypes(include=[np.number])\n",
    "df = pd.read_csv('opped/standardized.csv', index_col=0).select_dtypes(include=[np.number])\n",
    "home_adv_df = pd.read_csv('home_adv/home_adv.csv', index_col=0).select_dtypes(include=[np.number])"
   ]
  },
  {
   "cell_type": "code",
   "execution_count": 50,
   "metadata": {},
   "outputs": [
    {
     "name": "stdout",
     "output_type": "stream",
     "text": [
      "(92430, 96)\n"
     ]
    },
    {
     "data": {
      "text/plain": [
       "Index(['TEAM_ID_for_prev_0', 'WL_for_prev_0', 'MIN_for_prev_0',\n",
       "       'PTS_for_prev_0', 'FGM_for_prev_0', 'FGA_for_prev_0',\n",
       "       'FG_PCT_for_prev_0', 'FG3M_for_prev_0', 'FG3A_for_prev_0',\n",
       "       'FG3_PCT_for_prev_0', 'FTM_for_prev_0', 'FTA_for_prev_0',\n",
       "       'FT_PCT_for_prev_0', 'OREB_for_prev_0', 'DREB_for_prev_0',\n",
       "       'REB_for_prev_0', 'AST_for_prev_0', 'STL_for_prev_0', 'BLK_for_prev_0',\n",
       "       'TOV_for_prev_0', 'PF_for_prev_0', 'PLUS_MINUS_for_prev_0',\n",
       "       'IS_HOME_for_prev_0', 'TEAM_ID_against_prev_0', 'WL_against_prev_0',\n",
       "       'MIN_against_prev_0', 'PTS_against_prev_0', 'FGM_against_prev_0',\n",
       "       'FGA_against_prev_0', 'FG_PCT_against_prev_0', 'FG3M_against_prev_0',\n",
       "       'FG3A_against_prev_0', 'FG3_PCT_against_prev_0', 'FTM_against_prev_0',\n",
       "       'FTA_against_prev_0', 'FT_PCT_against_prev_0', 'OREB_against_prev_0',\n",
       "       'DREB_against_prev_0', 'REB_against_prev_0', 'AST_against_prev_0',\n",
       "       'STL_against_prev_0', 'BLK_against_prev_0', 'TOV_against_prev_0',\n",
       "       'PF_against_prev_0', 'PLUS_MINUS_against_prev_0',\n",
       "       'IS_HOME_against_prev_0', 'GAME_ID_prev_0', 'k_length',\n",
       "       'TEAM_ID_for_prev_0_opp', 'WL_for_prev_0_opp', 'MIN_for_prev_0_opp',\n",
       "       'PTS_for_prev_0_opp', 'FGM_for_prev_0_opp', 'FGA_for_prev_0_opp',\n",
       "       'FG_PCT_for_prev_0_opp', 'FG3M_for_prev_0_opp', 'FG3A_for_prev_0_opp',\n",
       "       'FG3_PCT_for_prev_0_opp', 'FTM_for_prev_0_opp', 'FTA_for_prev_0_opp',\n",
       "       'FT_PCT_for_prev_0_opp', 'OREB_for_prev_0_opp', 'DREB_for_prev_0_opp',\n",
       "       'REB_for_prev_0_opp', 'AST_for_prev_0_opp', 'STL_for_prev_0_opp',\n",
       "       'BLK_for_prev_0_opp', 'TOV_for_prev_0_opp', 'PF_for_prev_0_opp',\n",
       "       'PLUS_MINUS_for_prev_0_opp', 'IS_HOME_for_prev_0_opp',\n",
       "       'TEAM_ID_against_prev_0_opp', 'WL_against_prev_0_opp',\n",
       "       'MIN_against_prev_0_opp', 'PTS_against_prev_0_opp',\n",
       "       'FGM_against_prev_0_opp', 'FGA_against_prev_0_opp',\n",
       "       'FG_PCT_against_prev_0_opp', 'FG3M_against_prev_0_opp',\n",
       "       'FG3A_against_prev_0_opp', 'FG3_PCT_against_prev_0_opp',\n",
       "       'FTM_against_prev_0_opp', 'FTA_against_prev_0_opp',\n",
       "       'FT_PCT_against_prev_0_opp', 'OREB_against_prev_0_opp',\n",
       "       'DREB_against_prev_0_opp', 'REB_against_prev_0_opp',\n",
       "       'AST_against_prev_0_opp', 'STL_against_prev_0_opp',\n",
       "       'BLK_against_prev_0_opp', 'TOV_against_prev_0_opp',\n",
       "       'PF_against_prev_0_opp', 'PLUS_MINUS_against_prev_0_opp',\n",
       "       'IS_HOME_against_prev_0_opp', 'GAME_ID_prev_0_opp', 'k_length_opp'],\n",
       "      dtype='object')"
      ]
     },
     "execution_count": 50,
     "metadata": {},
     "output_type": "execute_result"
    }
   ],
   "source": [
    "print(streak_df.shape)\n",
    "streak_df.columns"
   ]
  },
  {
   "cell_type": "code",
   "execution_count": 51,
   "metadata": {},
   "outputs": [
    {
     "name": "stdout",
     "output_type": "stream",
     "text": [
      "(92430, 96)\n"
     ]
    },
    {
     "data": {
      "text/plain": [
       "Index(['TEAM_ID_for', 'WL_for', 'MIN_for', 'PTS_for', 'FGM_for', 'FGA_for',\n",
       "       'FG_PCT_for', 'FG3M_for', 'FG3A_for', 'FG3_PCT_for', 'FTM_for',\n",
       "       'FTA_for', 'FT_PCT_for', 'OREB_for', 'DREB_for', 'REB_for', 'AST_for',\n",
       "       'STL_for', 'BLK_for', 'TOV_for', 'PF_for', 'PLUS_MINUS_for',\n",
       "       'IS_HOME_for', 'TEAM_ID_against', 'WL_against', 'MIN_against',\n",
       "       'PTS_against', 'FGM_against', 'FGA_against', 'FG_PCT_against',\n",
       "       'FG3M_against', 'FG3A_against', 'FG3_PCT_against', 'FTM_against',\n",
       "       'FTA_against', 'FT_PCT_against', 'OREB_against', 'DREB_against',\n",
       "       'REB_against', 'AST_against', 'STL_against', 'BLK_against',\n",
       "       'TOV_against', 'PF_against', 'PLUS_MINUS_against', 'IS_HOME_against',\n",
       "       'GAME_ID', 'SEASON_ID', 'TEAM_ID_for_opp', 'WL_for_opp', 'MIN_for_opp',\n",
       "       'PTS_for_opp', 'FGM_for_opp', 'FGA_for_opp', 'FG_PCT_for_opp',\n",
       "       'FG3M_for_opp', 'FG3A_for_opp', 'FG3_PCT_for_opp', 'FTM_for_opp',\n",
       "       'FTA_for_opp', 'FT_PCT_for_opp', 'OREB_for_opp', 'DREB_for_opp',\n",
       "       'REB_for_opp', 'AST_for_opp', 'STL_for_opp', 'BLK_for_opp',\n",
       "       'TOV_for_opp', 'PF_for_opp', 'PLUS_MINUS_for_opp', 'IS_HOME_for_opp',\n",
       "       'TEAM_ID_against_opp', 'WL_against_opp', 'MIN_against_opp',\n",
       "       'PTS_against_opp', 'FGM_against_opp', 'FGA_against_opp',\n",
       "       'FG_PCT_against_opp', 'FG3M_against_opp', 'FG3A_against_opp',\n",
       "       'FG3_PCT_against_opp', 'FTM_against_opp', 'FTA_against_opp',\n",
       "       'FT_PCT_against_opp', 'OREB_against_opp', 'DREB_against_opp',\n",
       "       'REB_against_opp', 'AST_against_opp', 'STL_against_opp',\n",
       "       'BLK_against_opp', 'TOV_against_opp', 'PF_against_opp',\n",
       "       'PLUS_MINUS_against_opp', 'IS_HOME_against_opp', 'GAME_ID_opp',\n",
       "       'SEASON_ID_opp'],\n",
       "      dtype='object')"
      ]
     },
     "execution_count": 51,
     "metadata": {},
     "output_type": "execute_result"
    }
   ],
   "source": [
    "print(df.shape)\n",
    "df.columns"
   ]
  },
  {
   "cell_type": "code",
   "execution_count": 57,
   "metadata": {},
   "outputs": [
    {
     "data": {
      "text/plain": [
       "['WL_for', 'WL_against', 'WL_for_opp', 'WL_against_opp']"
      ]
     },
     "execution_count": 57,
     "metadata": {},
     "output_type": "execute_result"
    }
   ],
   "source": [
    "WL_cols = [col for col in df.columns if 'WL' in col]\n",
    "WL_cols"
   ]
  },
  {
   "cell_type": "code",
   "execution_count": 66,
   "metadata": {},
   "outputs": [
    {
     "data": {
      "text/plain": [
       "WL_for            0.10502\n",
       "WL_against       -0.10502\n",
       "WL_for_opp       -0.10502\n",
       "WL_against_opp    0.10502\n",
       "dtype: float64"
      ]
     },
     "execution_count": 66,
     "metadata": {},
     "output_type": "execute_result"
    }
   ],
   "source": [
    "home_inflation = (df[df['IS_HOME_for'] == 1].mean() - df['IS_HOME_for'].mean())\n",
    "home_inflation[WL_cols]"
   ]
  },
  {
   "cell_type": "markdown",
   "metadata": {},
   "source": [
    "Wow. Looks good. "
   ]
  },
  {
   "cell_type": "markdown",
   "metadata": {},
   "source": [
    "Want to use home inflation measured in non-streak columns to neutralize home advantage in streak cols. Specifically:\n",
    "\n",
    "streak_col += home_adv_over_streak * home_inflation\n",
    "\n",
    "This formula is exhaustive because:\n",
    "* If more away games have been played than home games, then home_adv_over_streak < 0. \n",
    "* home_inflation mirrors away_deflation"
   ]
  },
  {
   "cell_type": "code",
   "execution_count": 69,
   "metadata": {},
   "outputs": [
    {
     "data": {
      "text/plain": [
       "NUM_HOME_for_prev_0                  13.0\n",
       "NUM_AWAY_for_prev_0                  20.0\n",
       "HOME_ADVANTAGE_for_prev_0            -7.0\n",
       "NUM_HOME_against_prev_0              20.0\n",
       "NUM_AWAY_against_prev_0              13.0\n",
       "HOME_ADVANTAGE_against_prev_0         7.0\n",
       "NUM_HOME_for_prev_0_opp              17.0\n",
       "NUM_AWAY_for_prev_0_opp              18.0\n",
       "HOME_ADVANTAGE_for_prev_0_opp        -1.0\n",
       "NUM_HOME_against_prev_0_opp          18.0\n",
       "NUM_AWAY_against_prev_0_opp          17.0\n",
       "HOME_ADVANTAGE_against_prev_0_opp     1.0\n",
       "Name: 40001002, dtype: float64"
      ]
     },
     "execution_count": 69,
     "metadata": {},
     "output_type": "execute_result"
    }
   ],
   "source": [
    "home_adv_df.iloc[1000]"
   ]
  },
  {
   "cell_type": "code",
   "execution_count": 63,
   "metadata": {},
   "outputs": [
    {
     "data": {
      "text/plain": [
       "TEAM_ID_for               1.610613e+09\n",
       "WL_for                    6.050200e-01\n",
       "MIN_for                  -8.499655e-05\n",
       "PTS_for                   1.363469e-01\n",
       "FGM_for                   1.064552e-01\n",
       "                              ...     \n",
       "PF_against_opp           -8.331199e-02\n",
       "PLUS_MINUS_against_opp    2.538845e-01\n",
       "IS_HOME_against_opp       1.000000e+00\n",
       "GAME_ID_opp               2.422015e+07\n",
       "SEASON_ID_opp             2.200354e+04\n",
       "Length: 96, dtype: float64"
      ]
     },
     "execution_count": 63,
     "metadata": {},
     "output_type": "execute_result"
    }
   ],
   "source": [
    "home_inflation"
   ]
  }
 ],
 "metadata": {
  "kernelspec": {
   "display_name": "my_env",
   "language": "python",
   "name": "python3"
  },
  "language_info": {
   "codemirror_mode": {
    "name": "ipython",
    "version": 3
   },
   "file_extension": ".py",
   "mimetype": "text/x-python",
   "name": "python",
   "nbconvert_exporter": "python",
   "pygments_lexer": "ipython3",
   "version": "3.8.18"
  }
 },
 "nbformat": 4,
 "nbformat_minor": 2
}
