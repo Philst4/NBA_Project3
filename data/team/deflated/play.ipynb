{
 "cells": [
  {
   "cell_type": "code",
   "execution_count": 1,
   "metadata": {},
   "outputs": [],
   "source": [
    "import pandas as pd"
   ]
  },
  {
   "cell_type": "code",
   "execution_count": 5,
   "metadata": {},
   "outputs": [],
   "source": [
    "deflated_df = pd.read_csv('standardized_0.csv', index_col=0).select_dtypes(include=['number'])"
   ]
  },
  {
   "cell_type": "code",
   "execution_count": 4,
   "metadata": {},
   "outputs": [
    {
     "data": {
      "text/plain": [
       "TEAM_ID_for_prev_0                NaN\n",
       "WL_for_prev_0                     NaN\n",
       "MIN_for_prev_0                    NaN\n",
       "PTS_for_prev_0                    NaN\n",
       "FGM_for_prev_0                    NaN\n",
       "                                 ... \n",
       "PF_against_prev_0_opp             NaN\n",
       "PLUS_MINUS_against_prev_0_opp     NaN\n",
       "IS_HOME_against_prev_0_opp        NaN\n",
       "GAME_ID_prev_0_opp                NaN\n",
       "k_length_opp                     35.0\n",
       "Name: 40001002, Length: 96, dtype: float64"
      ]
     },
     "execution_count": 4,
     "metadata": {},
     "output_type": "execute_result"
    }
   ],
   "source": [
    "deflated_df.iloc[1000]"
   ]
  }
 ],
 "metadata": {
  "kernelspec": {
   "display_name": "my_env",
   "language": "python",
   "name": "python3"
  },
  "language_info": {
   "codemirror_mode": {
    "name": "ipython",
    "version": 3
   },
   "file_extension": ".py",
   "mimetype": "text/x-python",
   "name": "python",
   "nbconvert_exporter": "python",
   "pygments_lexer": "ipython3",
   "version": "3.8.18"
  }
 },
 "nbformat": 4,
 "nbformat_minor": 2
}
